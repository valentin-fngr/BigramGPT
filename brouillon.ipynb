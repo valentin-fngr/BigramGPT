{
 "cells": [
  {
   "cell_type": "code",
   "execution_count": 1,
   "metadata": {},
   "outputs": [],
   "source": [
    "import torch  \n",
    "import numpy as np \n",
    "import torch.nn as nn "
   ]
  },
  {
   "cell_type": "code",
   "execution_count": 24,
   "metadata": {},
   "outputs": [
    {
     "name": "stdout",
     "output_type": "stream",
     "text": [
      "tensor([[-1.1549,    -inf,    -inf,    -inf,    -inf,    -inf,    -inf,    -inf,\n",
      "            -inf,    -inf],\n",
      "        [-0.2328,  0.7532,    -inf,    -inf,    -inf,    -inf,    -inf,    -inf,\n",
      "            -inf,    -inf],\n",
      "        [ 0.5117, -0.9196, -5.1894,    -inf,    -inf,    -inf,    -inf,    -inf,\n",
      "            -inf,    -inf],\n",
      "        [ 2.9284,  0.9649, -7.7013,  4.1806,    -inf,    -inf,    -inf,    -inf,\n",
      "            -inf,    -inf],\n",
      "        [ 1.5384,  1.2540, -1.8299,  2.5701,  1.3701,    -inf,    -inf,    -inf,\n",
      "            -inf,    -inf],\n",
      "        [ 0.2161, -1.0222,  6.9390, -0.8817,  2.4851,  2.9627,    -inf,    -inf,\n",
      "            -inf,    -inf],\n",
      "        [ 1.7809,  0.1291, -0.6541,  0.4275, -0.9185, -0.3908,  0.8490,    -inf,\n",
      "            -inf,    -inf],\n",
      "        [ 0.1512,  5.6850,  0.0182,  1.6050, -0.8403, -1.1002,  0.9694,  2.8493,\n",
      "            -inf,    -inf],\n",
      "        [ 2.9561, -1.9552,  0.5725,  2.2787,  2.9268, -0.3383,  0.3240, -0.7031,\n",
      "          0.2842,    -inf],\n",
      "        [-2.0211,  0.0733, -1.9432, -1.3239, -2.0778, -0.3414, -0.0588, -0.1045,\n",
      "          3.2674,  1.0248]])\n"
     ]
    },
    {
     "data": {
      "text/plain": [
       "tensor([[1.0000e+00, 0.0000e+00, 0.0000e+00, 0.0000e+00, 0.0000e+00, 0.0000e+00,\n",
       "         0.0000e+00, 0.0000e+00, 0.0000e+00, 0.0000e+00],\n",
       "        [2.7171e-01, 7.2829e-01, 0.0000e+00, 0.0000e+00, 0.0000e+00, 0.0000e+00,\n",
       "         0.0000e+00, 0.0000e+00, 0.0000e+00, 0.0000e+00],\n",
       "        [8.0493e-01, 1.9238e-01, 2.6903e-03, 0.0000e+00, 0.0000e+00, 0.0000e+00,\n",
       "         0.0000e+00, 0.0000e+00, 0.0000e+00, 0.0000e+00],\n",
       "        [2.1559e-01, 3.0262e-02, 5.2146e-06, 7.5414e-01, 0.0000e+00, 0.0000e+00,\n",
       "         0.0000e+00, 0.0000e+00, 0.0000e+00, 0.0000e+00],\n",
       "        [1.8389e-01, 1.3837e-01, 6.3348e-03, 5.1599e-01, 1.5541e-01, 0.0000e+00,\n",
       "         0.0000e+00, 0.0000e+00, 0.0000e+00, 0.0000e+00],\n",
       "        [1.1653e-03, 3.3780e-04, 9.6867e-01, 3.8876e-04, 1.1268e-02, 1.8168e-02,\n",
       "         0.0000e+00, 0.0000e+00, 0.0000e+00, 0.0000e+00],\n",
       "        [4.7333e-01, 9.0742e-02, 4.1460e-02, 1.2229e-01, 3.1829e-02, 5.3949e-02,\n",
       "         1.8639e-01, 0.0000e+00, 0.0000e+00, 0.0000e+00],\n",
       "        [3.6095e-03, 9.1363e-01, 3.1600e-03, 1.5446e-02, 1.3392e-03, 1.0327e-03,\n",
       "         8.1808e-03, 5.3605e-02, 0.0000e+00, 0.0000e+00],\n",
       "        [3.5939e-01, 2.6463e-03, 3.3142e-02, 1.8255e-01, 3.4900e-01, 1.3330e-02,\n",
       "         2.5849e-02, 9.2557e-03, 2.4842e-02, 0.0000e+00],\n",
       "        [3.9760e-03, 3.2286e-02, 4.2979e-03, 7.9844e-03, 3.7569e-03, 2.1328e-02,\n",
       "         2.8293e-02, 2.7029e-02, 7.8744e-01, 8.3612e-02]])"
      ]
     },
     "execution_count": 24,
     "metadata": {},
     "output_type": "execute_result"
    }
   ],
   "source": [
    "q = torch.randn(10, 5) \n",
    "k = torch.randn(10, 5) \n",
    "\n",
    "mask = torch.tril(torch.ones((10, 10)))\n",
    "x = (q@k.T).masked_fill(mask == 0, float(\"-inf\"))\n",
    "print(x)\n",
    "torch.nn.functional.softmax(x, dim=-1)"
   ]
  },
  {
   "cell_type": "code",
   "execution_count": null,
   "metadata": {},
   "outputs": [],
   "source": []
  }
 ],
 "metadata": {
  "kernelspec": {
   "display_name": "venv",
   "language": "python",
   "name": "python3"
  },
  "language_info": {
   "codemirror_mode": {
    "name": "ipython",
    "version": 3
   },
   "file_extension": ".py",
   "mimetype": "text/x-python",
   "name": "python",
   "nbconvert_exporter": "python",
   "pygments_lexer": "ipython3",
   "version": "3.8.8"
  },
  "orig_nbformat": 4
 },
 "nbformat": 4,
 "nbformat_minor": 2
}
